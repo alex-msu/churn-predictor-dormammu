{
  "cells": [
    {
      "cell_type": "markdown",
      "metadata": {
        "id": "1-lX2LNl-bZ6"
      },
      "source": [
        "# Análisis de Retención de Clientes (CHURN)"
      ]
    },
    {
      "cell_type": "markdown",
      "metadata": {
        "id": "kBpI7IH--c0c"
      },
      "source": [
        "\n",
        "----"
      ]
    },
    {
      "cell_type": "markdown",
      "metadata": {
        "id": "zF2frQQR-iK9"
      },
      "source": [
        "## Contexto del Negocio\n",
        "\n",
        "El banco ficticio Monopoly, con años de operación en Chile, ha sido recientemente adquirido por una entidad extranjera: el banco Dormammu.\n",
        "\n",
        "Como parte del proceso de integración, Dormammu ha solicitado un análisis exhaustivo de la base de datos de clientes de Monopoly —que contiene 574 variables y 51.124 registros— con el objetivo de:\n",
        "\n",
        "* Comprender el comportamiento financiero de los clientes actuales.\n",
        "* Identificar patrones de uso en productos como cuentas corrientes y tarjetas de crédito.\n",
        "* Detectar oportunidades para mejorar los servicios existentes y aumentar la rentabilidad.\n",
        "* Evaluar estrategias para retener clientes actuales y atraer nuevos usuarios hacia los productos del banco fusionado.\n",
        "\n",
        "Este análisis será clave para diseñar políticas comerciales, campañas de fidelización, y planes de producto más alineados con los perfiles y necesidades detectadas en la base de clientes.\n",
        "\n",
        "**Objetivo del Análisis**:\n",
        "\n",
        "**Retención de Clientes**: Desarrollar un modelo predictivo que permita identificar clientes con riesgo de abandonar el banco. El objetivo es facilitar la creación de campañas de retención proactivas y focalizadas, basadas en patrones de comportamiento reales.\n",
        "\n",
        "---"
      ]
    },
    {
      "cell_type": "markdown",
      "metadata": {},
      "source": [
        "### Importaciones"
      ]
    },
    {
      "cell_type": "code",
      "execution_count": null,
      "metadata": {
        "id": "55nFrsv0-jzB"
      },
      "outputs": [],
      "source": [
        "#importaciones de librerías\n",
        "from google.colab import drive\n",
        "import pandas as pd\n",
        "import numpy as np\n",
        "import matplotlib.pyplot as plt\n",
        "import seaborn as sns\n",
        "import kagglehub\n",
        "import joblib\n",
        "from seaborn import load_dataset\n",
        "from seaborn import kdeplot\n",
        "from seaborn import lmplot\n",
        "from seaborn import boxplot\n",
        "\n",
        "from sklearn.pipeline import Pipeline\n",
        "from sklearn.compose import ColumnTransformer\n",
        "from sklearn.preprocessing import StandardScaler\n",
        "from sklearn.preprocessing import MinMaxScaler\n",
        "from sklearn.preprocessing import LabelEncoder\n",
        "from sklearn.preprocessing import OneHotEncoder\n",
        "from sklearn.model_selection import train_test_split\n",
        "from sklearn.model_selection import cross_val_predict\n",
        "from sklearn.impute import SimpleImputer\n",
        "from sklearn.linear_model import LinearRegression, LogisticRegression\n",
        "from sklearn.metrics import mean_squared_error\n",
        "from sklearn.metrics import mean_absolute_error\n",
        "from sklearn.metrics import confusion_matrix\n",
        "from sklearn.metrics import classification_report\n",
        "from sklearn.metrics import accuracy_score\n",
        "\n",
        "from scipy.sparse import hstack"
      ]
    },
    {
      "cell_type": "markdown",
      "metadata": {},
      "source": [
        "### Configuración del Dataset"
      ]
    },
    {
      "cell_type": "code",
      "execution_count": null,
      "metadata": {
        "colab": {
          "base_uri": "https://localhost:8080/"
        },
        "id": "skRDGggIcNT_",
        "outputId": "ab9ce46b-55b4-413e-fbf5-15d8c388ecef"
      },
      "outputs": [],
      "source": [
        "# Descargar dataset\n",
        "path = kagglehub.dataset_download(\"nadiaarellanog/base-clientes-monopoly\")\n",
        "\n",
        "print(\"Ruta:\", path)"
      ]
    },
    {
      "cell_type": "code",
      "execution_count": null,
      "metadata": {
        "colab": {
          "base_uri": "https://localhost:8080/"
        },
        "id": "48eTrBvLcUtD",
        "outputId": "8f64f2f0-6167-453f-83f8-6ee1d1653786"
      },
      "outputs": [],
      "source": [
        "monopoly = pd.read_csv(path + \"/Base_clientes_Monopoly.csv\", delimiter='\\t')"
      ]
    },
    {
      "cell_type": "code",
      "execution_count": null,
      "metadata": {
        "colab": {
          "base_uri": "https://localhost:8080/"
        },
        "id": "csT3yh6e-k-Z",
        "outputId": "7ad0cff1-3237-4794-9241-62cfcaae1be5"
      },
      "outputs": [],
      "source": [
        "# Mostrar las primeras filas del DataFrame para verificar la carga del archivo\n",
        "print(monopoly.head())"
      ]
    },
    {
      "cell_type": "markdown",
      "metadata": {},
      "source": [
        "---"
      ]
    },
    {
      "cell_type": "markdown",
      "metadata": {
        "id": "EjoeTPXS-pJW"
      },
      "source": [
        "### Comprensión de los Datos\n",
        "\n",
        "El conjunto de datos proporcionado por el banco Monopoly (ahora parte de Dormammu) contiene información detallada de más de 51.000 clientes y 574 variables, abarcando:\n",
        "\n",
        "* Datos demográficos\n",
        "* Información sobre productos financieros (cuentas, tarjetas, créditos)\n",
        "* Actividad transaccional mensual (volumen y frecuencia)\n",
        "* Indicadores de comportamiento y engagement\n",
        "\n",
        "Este dataset permitirá construir una visión rica y detallada de cada cliente, así como modelar su propensión a continuar utilizando los servicios del banco.\n",
        "\n",
        "\n",
        "### Objetivos de esta Fase\n",
        "\n",
        "Durante la comprensión de los datos se busca:\n",
        "\n",
        "* Entender la estructura y significado de las variables disponibles, incluyendo unidades, escalas y formatos.\n",
        "* Detectar problemas de calidad de datos: valores faltantes, formatos inconsistentes, tipos incorrectos o valores atípicos.\n",
        "* Identificar variables relevantes para el modelo de retención, basándose en su naturaleza, correlación con el target y distribución.\n",
        "\n",
        "\n",
        "### Descripción de Variables Relevantes\n",
        "\n",
        "A continuación se resumen algunas de las variables clave agrupadas por tipo, destacando su utilidad en el análisis:\n",
        "\n",
        "🔹 Variables Demográficas\n",
        "* Región: Zona geográfica de residencia del cliente. Útil para segmentación geográfica.\n",
        "* Edad: Factor clave en el comportamiento financiero y tipo de productos utilizados.\n",
        "* Sexo: Potencialmente relevante para personalización de estrategias.\n",
        "* Renta: Indicador del poder adquisitivo del cliente, relacionado con su volumen de uso de productos.\n",
        "\n",
        "🔹 Productos Financieros\n",
        "* Ctacte: Tenencia de cuenta corriente. Asociada a clientes activos.\n",
        "* Hipotecario: Presencia de crédito hipotecario. Generalmente asociado a mayor compromiso con el banco.\n",
        "* Debito / TC: Indican si el cliente posee tarjetas de débito o crédito, respectivamente.\n",
        "\n",
        "🔹 Actividad Transaccional\n",
        "* Txs_T12: Número de transacciones en tarjetas de crédito durante el mes más reciente.\n",
        "* CUPO_L1 / L2 / MX: Límites de crédito en compras nacionales, avances y compras internacionales.\n",
        "* FlgAct_T12: Indicador de actividad reciente en tarjeta de crédito.\n",
        "\n",
        "\n",
        "### Problemas Detectados en el Análisis Inicial\n",
        "\n",
        "Durante la exploración preliminar se identificaron los siguientes desafíos:\n",
        "\n",
        "* Valores nulos en variables clave como Renta, Región y Sexo.\n",
        "* Tipos inconsistentes: Algunas variables numéricas aparecen como tipo object por uso de comas en lugar de puntos decimales o símbolos extraños.\n",
        "* Outliers: En variables como Txs_T12 y FacAN_T12 se observan valores atípicos que podrían afectar el entrenamiento del modelo.\n",
        "\n",
        "Estos problemas se abordarán en la etapa de preparación de los datos, mediante imputación, conversión de tipos y tratamiento de valores extremos según sea necesario.\n",
        "\n",
        "\n",
        "### Exploraciones Iniciales Realizadas\n",
        "\n",
        "Se realizaron algunas visualizaciones para comprender mejor la distribución de los datos:\n",
        "\n",
        "* Subsegmentos de Clientes: Permite observar agrupaciones internas según nivel de productos, ingresos u otros factores.\n",
        "* Distribución Regional: Ofrece perspectiva sobre la presencia geográfica de los clientes.\n",
        "* Género: Ayuda a identificar sesgos o necesidades de segmentación.\n",
        "\n",
        "---"
      ]
    },
    {
      "cell_type": "markdown",
      "metadata": {},
      "source": [
        "Se carga el conjunto de datos original monopoly y se convierte en un DataFrame de Pandas para facilitar su manipulación y análisis:"
      ]
    },
    {
      "cell_type": "code",
      "execution_count": 26,
      "metadata": {
        "id": "Q6CRZool-rLU"
      },
      "outputs": [],
      "source": [
        "df = pd.DataFrame(monopoly)"
      ]
    },
    {
      "cell_type": "markdown",
      "metadata": {
        "id": "dNaIaDt4-sJ6"
      },
      "source": [
        "Esta conversión permite trabajar con una estructura tabular estándar en Python, ideal para aplicar operaciones de limpieza, transformación y exploración utilizando herramientas del ecosistema científico como pandas, numpy y scikit-learn."
      ]
    },
    {
      "cell_type": "code",
      "execution_count": null,
      "metadata": {
        "colab": {
          "base_uri": "https://localhost:8080/"
        },
        "id": "WzmcNKG9-tdm",
        "outputId": "bfcf660c-192b-4792-c0e5-52ce62a5a74a"
      },
      "outputs": [],
      "source": [
        "#Cantidad de filas(registros) x cantidad de columnas(variables)\n",
        "print(df.shape)"
      ]
    },
    {
      "cell_type": "markdown",
      "metadata": {
        "id": "tN1B1eDE-vkH"
      },
      "source": [
        "Este comando muestra las dimensiones del DataFrame, es decir:\n",
        "\n",
        "* **Filas** (registros): 51,124 clientes\n",
        "* **Columnas** (variables): 574 características asociadas a cada cliente\n",
        "\n",
        "Esta información es clave para dimensionar el volumen de datos con el que se trabajará durante las etapas de análisis y modelado.\n",
        "\n"
      ]
    },
    {
      "cell_type": "code",
      "execution_count": null,
      "metadata": {
        "colab": {
          "base_uri": "https://localhost:8080/",
          "height": 255
        },
        "id": "iEJpuwcS-0rm",
        "outputId": "85abc02d-30c5-4616-d4cd-9ec707aed1c6"
      },
      "outputs": [],
      "source": [
        "df.head()"
      ]
    },
    {
      "cell_type": "code",
      "execution_count": null,
      "metadata": {
        "colab": {
          "base_uri": "https://localhost:8080/",
          "height": 130
        },
        "id": "cuzyHcuG-5jc",
        "outputId": "f18b749d-9734-45eb-dbab-65fb76aa58f8"
      },
      "outputs": [],
      "source": [
        "# Registro aleatorio\n",
        "df.sample()"
      ]
    },
    {
      "cell_type": "code",
      "execution_count": null,
      "metadata": {
        "colab": {
          "base_uri": "https://localhost:8080/",
          "height": 579
        },
        "id": "ep1FyzFp-6qq",
        "outputId": "8634ffd5-6732-41e4-9f07-268763e5cd8a"
      },
      "outputs": [],
      "source": [
        "# Genera el gráfico de barras\n",
        "plt.figure(figsize=(12, 6))\n",
        "conteo_subsegmento = df['Subsegmento'].value_counts()\n",
        "ax = conteo_subsegmento.plot.bar(rot=45, color='orange', width=0.8)\n",
        "\n",
        "# Etiquetas de texto para cada barra\n",
        "for i, v in enumerate(conteo_subsegmento):\n",
        "    ax.text(i, v + 5, str(v), ha='center', va='bottom')\n",
        "\n",
        "plt.xlabel(\"Subsegmento\")\n",
        "plt.ylabel(\"Frecuencia\")\n",
        "plt.title(\"Distribución de Subsegmento\")\n",
        "\n",
        "plt.show()"
      ]
    },
    {
      "cell_type": "markdown",
      "metadata": {
        "id": "bhZOG7WU-8RD"
      },
      "source": [
        "El gráfico de barras muestra que el subsegmento \"170\" es el más frecuente en la base de datos, lo que indica que esta categoría domina en esta variable."
      ]
    },
    {
      "cell_type": "code",
      "execution_count": null,
      "metadata": {
        "colab": {
          "base_uri": "https://localhost:8080/",
          "height": 449
        },
        "id": "ylo-4nj0_Bn9",
        "outputId": "af623645-b177-45e2-b51c-53fbca8532d5"
      },
      "outputs": [],
      "source": [
        "# Genera el gráfico de barras\n",
        "plt.figure(figsize=(17, 6))\n",
        "conteo_region = df['Region'].value_counts()\n",
        "ax = conteo_region.plot.bar(rot=0, color='purple', width=0.4)\n",
        "\n",
        "# Etiquetas de texto para cada barra\n",
        "for i, v in enumerate(conteo_region):\n",
        "    ax.text(i, v + 5, str(v), ha='center', va='bottom')\n",
        "\n",
        "plt.xlabel(\"Region\")\n",
        "plt.ylabel(\"Frecuencia\")\n",
        "plt.title(\"Distribución de Región\")\n",
        "\n",
        "plt.show()"
      ]
    },
    {
      "cell_type": "markdown",
      "metadata": {
        "id": "n8mFp6z4_DDl"
      },
      "source": [
        "La variable `Region` presenta una fuerte concentración en la categoría 13, lo que coincide con su moda. No obstante, se observan inconsistencias en el formato de algunas regiones, como `7` y `7.0`, que representan el mismo valor pero en diferentes tipos. Estas inconsistencias serán tratadas en la fase de limpieza de datos."
      ]
    },
    {
      "cell_type": "code",
      "execution_count": null,
      "metadata": {
        "colab": {
          "base_uri": "https://localhost:8080/",
          "height": 449
        },
        "id": "O-nM9LUQ_Ecn",
        "outputId": "5ff3168d-9047-4780-900a-4c9ef34db518"
      },
      "outputs": [],
      "source": [
        "# Genera el gráfico de barras\n",
        "plt.figure(figsize=(17, 6))\n",
        "conteo_sexo = df['Sexo'].value_counts()\n",
        "ax = conteo_sexo.plot.bar(rot=0, color='green', width=0.4)\n",
        "\n",
        "# Etiquetas de texto para cada barra\n",
        "for i, v in enumerate(conteo_sexo):\n",
        "    ax.text(i, v + 5, str(v), ha='center', va='bottom')\n",
        "\n",
        "plt.xlabel(\"Sexo\")\n",
        "plt.ylabel(\"Frecuencia\")\n",
        "plt.title(\"Distribución de Género: Hombres vs. Mujeres\")\n",
        "\n",
        "plt.show()"
      ]
    },
    {
      "cell_type": "markdown",
      "metadata": {
        "id": "MClznn1k_GFB"
      },
      "source": [
        "El gráfico de barras muestra que la categoría masculina es la más representada en el conjunto de datos, indicando una mayor proporción de hombres que mujeres en la muestra."
      ]
    },
    {
      "cell_type": "code",
      "execution_count": null,
      "metadata": {
        "colab": {
          "base_uri": "https://localhost:8080/",
          "height": 663
        },
        "id": "PjIANmxa_LYB",
        "outputId": "82f76600-d39f-4bf3-aeb4-fa71f89cd722"
      },
      "outputs": [],
      "source": [
        "# Eliminar valores nulos de la columna que se va a graficar\n",
        "data_to_plot = df['Txs_T12'].dropna()\n",
        "\n",
        "# Crear el histograma\n",
        "plt.figure(figsize=(12, 7))\n",
        "plt.hist(data_to_plot, bins=30, alpha=0.7, color='skyblue', edgecolor='black')\n",
        "\n",
        "# Añadir título y etiquetas\n",
        "plt.title('Histograma de Transacciones (Txs_T12)', fontsize=16)\n",
        "plt.xlabel('Valor de Transacciones', fontsize=14)\n",
        "plt.ylabel('Frecuencia', fontsize=14)\n",
        "\n",
        "# Añadir líneas de referencia\n",
        "mean_value = data_to_plot.mean()\n",
        "plt.axvline(mean_value, color='red', linestyle='dashed', linewidth=1, label=f'Media: {mean_value:.2f}')\n",
        "\n",
        "# Añadir leyenda\n",
        "plt.legend()\n",
        "\n",
        "# Añadir cuadrícula\n",
        "plt.grid(axis='y', alpha=0.75)\n",
        "\n",
        "# Mostrar el histograma\n",
        "plt.tight_layout()  # Ajustar para que todo se muestre correctamente\n",
        "plt.show()"
      ]
    },
    {
      "cell_type": "markdown",
      "metadata": {
        "id": "fI0cFHDRAaFI"
      },
      "source": [
        "El histograma muestra la distribución del número de transacciones mensuales en tarjeta de crédito (`Txs_T12`). Se observa una alta concentración de clientes con pocos movimientos, lo que indica un uso limitado del producto por la mayoría de la base.\n",
        "\n",
        "Una línea discontinua roja representa la media (**~2.59 transacciones**), visiblemente desplazada hacia la derecha de la mayoría de los datos, lo que evidencia un sesgo fuerte hacia valores bajos.\n",
        "\n",
        "**Observaciones clave**\n",
        "\n",
        "* **Distribución sesgada**: La variable presenta una distribución fuertemente sesgada a la derecha (right-skewed), con la mayoría de los valores cercanos a cero.\n",
        "* **Media baja**: Aunque el promedio se sitúa en 2.59, este valor está influido por unos pocos clientes con volúmenes transaccionales altos.\n",
        "* **Baja actividad general**: La gran mayoría de los clientes realiza pocas transacciones mensuales, lo que puede implicar baja utilización del producto o inactividad.\n",
        "\n"
      ]
    },
    {
      "cell_type": "code",
      "execution_count": null,
      "metadata": {
        "colab": {
          "base_uri": "https://localhost:8080/",
          "height": 607
        },
        "id": "WokBbR2WAq26",
        "outputId": "d3e8abf0-c730-4e4f-8fae-b2b742a435f1"
      },
      "outputs": [],
      "source": [
        "# Filtrar valores nulos en la columna Txs_T12\n",
        "data_to_plot = df['Txs_T12'].dropna()\n",
        "\n",
        "# Crear el diagrama de caja (boxplot)\n",
        "plt.figure(figsize=(10, 6))\n",
        "plt.boxplot(data_to_plot, vert=False, patch_artist=True,\n",
        "            boxprops=dict(facecolor='lightblue'), whis=10)  # Valor whis ajustado\n",
        "\n",
        "# Añadir título y etiquetas de los ejes\n",
        "plt.title('Diagrama de Caja de Transacciones (Txs_T12)', fontsize=16)\n",
        "plt.xlabel('Valor de Transacciones', fontsize=14)\n",
        "\n",
        "# Agregar la curva de densidad (KDE plot) con transparencia\n",
        "sns.kdeplot(data_to_plot, color='blue', bw_adjust=0.5, alpha=0.5)  # Ajuste de suavizado y transparencia\n",
        "\n",
        "# Mostrar el diagrama de caja y configurar la cuadrícula\n",
        "plt.grid(axis='x', alpha=0.75)\n",
        "plt.tight_layout()  # Asegurar que todos los elementos se muestren correctamente\n",
        "plt.show()\n"
      ]
    },
    {
      "cell_type": "markdown",
      "metadata": {
        "id": "DaD7hJaLBAl3"
      },
      "source": [
        "El gráfico combina un diagrama de caja con una curva de densidad (KDE) para representar la distribución de transacciones mensuales (`Txs_T12`). Ambos elementos revelan una alta concentración de valores cercanos a cero, con una caída abrupta a medida que aumentan.\n",
        "\n",
        "El diagrama de caja muestra una dispersión estrecha en el rango bajo, con outliers significativos en el extremo derecho, lo que indica la presencia de clientes con actividad inusualmente alta. Los bigotes se extienden hasta aproximadamente 50 transacciones, mientras que el KDE evidencia un fuerte sesgo a la derecha, con un único pico dominante.\n",
        "\n",
        "**Observaciones clave**\n",
        "\n",
        "* **Alta concentración en valores bajos**: La mayoría de los clientes realiza muy pocas transacciones mensuales.\n",
        "* **Outliers relevantes**: Existen casos aislados con volúmenes considerablemente más altos que el promedio, lo cual influye en la media.\n",
        "* **Distribución asimétrica**: La forma de la curva y el diagrama de caja evidencian una distribución fuertemente sesgada (right-skewed), algo típico en datos financieros de uso de productos.\n",
        "\n",
        "---\n",
        "\n"
      ]
    },
    {
      "cell_type": "markdown",
      "metadata": {
        "id": "GOKYnBFnBZ8D"
      },
      "source": [
        "## Preparación de los Datos\n",
        "\n",
        "En esta fase, se limpia y transforma el dataset para asegurar que sea consistente, completo y adecuado para el modelado. Dado que se detectaron valores nulos, tipos inconsistentes y outliers, se aplicarán transformaciones específicas para garantizar la calidad de los datos.\n",
        "\n",
        "\n",
        "### Objetivos de esta Etapa\n",
        "Los principales objetivos de esta fase incluyen:\n",
        "\n",
        "A. **Limpieza de Nulos**: Identificar y tratar valores nulos, tipos incorrectos y registros anómalos.\n",
        "\n",
        "B. **Conversión y Transformación**: Asegurar que las variables estén correctamente tipadas y representadas.\n",
        "\n",
        "C. **Tratamiento de Outliers**: Limpiar los valores extremos detectados.\n",
        "\n",
        "D. **Normalización/Estandarización**: Escalar variables financieras para asegurar comparabilidad en el modelado.\n",
        "\n",
        "### A. Limpieza de Nulos\n",
        "1. **Variables demográficas**: Sexo y Región contienen valores faltantes. Dado su potencial valor analítico, se imputarán utilizando la moda o el valor más frecuente dentro de subgrupos.\n",
        "2. **Variable financiera – Renta**: Dado su impacto en el comportamiento del cliente, se imputará usando la mediana por subsegmento, para preservar relaciones contextuales.\n",
        "3. Se incluirá un heatmap de nulos y un gráfico de barras para identificar las columnas más afectadas.\n",
        "\n",
        "### B. Conversión y Transformación\n",
        "1. Variables mal tipadas como object (ej. Renta, CUPO_L1, etc.) serán convertidas a float, eliminando símbolos o formatos inválidos.\n",
        "2. Región será convertida a tipo categórico, ya que representa una ubicación y no una magnitud continua.\n",
        "\n",
        "### C. Tratamiento de Outliers\n",
        "Se identificaron valores extremos en variables como Txs_T12 y FacAN_T12. Para ello:\n",
        "\n",
        "1. Se usarán boxplots y curvas KDE para detectar y visualizar estas anomalías.\n",
        "2. El tratamiento aplicará reglas basadas en el rango intercuartílico (IQR) o transformaciones logarítmicas, según el impacto observado.\n",
        "\n",
        "### D. Normalización y Estandarización\n",
        "1. Estandarización (z-score) se aplicará a variables financieras como Renta, CUPO_L1, CUPO_L2 y CUPO_MX.\n",
        "2. Normalización se considerará para variables transaccionales si presentan asimetría fuerte.\n",
        "\n",
        "Estas técnicas aseguran que las variables contribuyan equitativamente en los modelos, sin que su escala domine el aprendizaje.\n",
        "\n",
        "### Preparación del Target para el Modelado\n",
        "El target será la suma anual de transacciones con tarjetas (Txs_T01 a Txs_T12), una métrica que representa la actividad del cliente durante un año.\n",
        "\n",
        "Pasos:\n",
        "1. **Cálculo**: Se sumarán las columnas mensuales para crear total_transacciones_anual.\n",
        "2. **Transformación**: Dado el sesgo hacia valores bajos, se aplicará una transformación logarítmica (log1p) para mejorar la distribución y el ajuste en modelos de regresión.\n",
        "\n",
        "### Resultado Final\n",
        "Esta etapa deja el dataset limpio, tipado correctamente y escalado, listo para aplicar modelos de regresión o clasificación. La calidad de esta preparación es clave para generar modelos robustos y relevantes para las necesidades estratégicas del banco Dormammu.\n",
        "\n",
        "---"
      ]
    },
    {
      "cell_type": "code",
      "execution_count": 36,
      "metadata": {
        "id": "qD7q2jTwHYI3"
      },
      "outputs": [],
      "source": [
        "# Selecciona todas las columnas mensuales de transacciones\n",
        "transacciones_mensuales = [f'Txs_T{i:02}' for i in range(1, 13)]\n",
        "\n",
        "# Verifica que las columnas existan en el DataFrame\n",
        "transacciones_mensuales = [col for col in transacciones_mensuales if col in df.columns]\n",
        "\n",
        "# Calcula el total anual de transacciones\n",
        "df['total_transacciones_anual'] = df[transacciones_mensuales].sum(axis=1)\n",
        "target_regresion = df['total_transacciones_anual']\n"
      ]
    },
    {
      "cell_type": "code",
      "execution_count": 37,
      "metadata": {
        "colab": {
          "base_uri": "https://localhost:8080/"
        },
        "id": "hUDq8n2wBbdZ",
        "outputId": "c320d7e5-0302-43c2-b604-9fd23a796c87"
      },
      "outputs": [
        {
          "name": "stdout",
          "output_type": "stream",
          "text": [
            "             Id  Subsegmento   Sexo   Region     Edad     Renta  Antiguedad  Internauta  Adicional  Dualidad  Monoproducto   Ctacte  Consumo  Hipotecario   Debito  CambioPin  Cuentas       TC  CUPO_L1  CUPO_L2  CUPO_MX\n",
            "count   51124.0      51124.0  51123  51071.0  51124.0   37759.0     51124.0     51124.0    51124.0   51124.0       51124.0  51124.0  51124.0      51124.0  51124.0    31736.0  51124.0  51124.0  51124.0  51124.0  51124.0\n",
            "unique      NaN          NaN      2      NaN      NaN   34276.0         NaN         NaN        NaN       NaN           NaN      NaN      NaN          NaN      NaN        NaN      NaN      NaN      NaN   4591.0   3522.0\n",
            "top         NaN          NaN      H      NaN      NaN  400000.0         NaN         NaN        NaN       NaN           NaN      NaN      NaN          NaN      NaN        NaN      NaN      NaN      NaN      1.0   1000.0\n",
            "freq        NaN          NaN  27410      NaN      NaN     205.0         NaN         NaN        NaN       NaN           NaN      NaN      NaN          NaN      NaN        NaN      NaN      NaN      NaN   5516.0   5058.0\n"
          ]
        }
      ],
      "source": [
        "pd.set_option('display.max_columns', None)\n",
        "pd.set_option('display.width', 1000)\n",
        "\n",
        "# Análisis clientes\n",
        "# Utiliza describe() para obtener estadísticas de variables categóricas y numéricas\n",
        "df_describe = df.iloc[:, 0:21].describe(include='all')\n",
        "\n",
        "# Filtra solo las columnas count, unique, top, freq\n",
        "df_filtered = df_describe.loc[['count', 'unique', 'top', 'freq']]\n",
        "\n",
        "# Muestra solo las estadísticas seleccionadas\n",
        "print(df_filtered)"
      ]
    },
    {
      "cell_type": "markdown",
      "metadata": {
        "id": "sy0x9FZfCX--"
      },
      "source": [
        "Se inspeccionaron las estadísticas básicas de un subconjunto de variables utilizando df.describe(include='all'). A continuación se destacan observaciones clave por tipo de variable:\n",
        "\n",
        "🔹 Identificadores y Categóricas\n",
        "* **Id**: Completo (51.124 valores), actúa como identificador único.\n",
        "* **Subsegmento**: Completo, pero no se muestran métricas adicionales al tratarse de una variable categórica numérica.\n",
        "* **Sexo**: Casi completa (1 valor nulo). Dos categorías, con predominio masculino (H, ~27.410 casos).\n",
        "* **Región**: Presenta valores faltantes (~53 ausentes). Deberá convertirse a categórica y limpiarse por formato inconsistente (ej. \"7\" vs \"7.0\").\n",
        "\n",
        "🔹 Variables Numéricas\n",
        "* **Edad, Antigüedad**: Completas y numéricas continuas, sin issues aparentes.\n",
        "* **Renta**: Incompleta (~26% nulos). Altamente variable (34.276 valores únicos). El valor más frecuente es 400.000 (205 registros), lo que podría reflejar un default artificial o segmento común.\n",
        "\n",
        "🔹 Variables Indicadoras (Binarias)\n",
        "* Variables como **Internauta, Adicional, Dualidad, Monoproducto, Ctacte, Consumo, Hipotecario, Debito** están completas y parecen binarias (0/1). Su análisis de frecuencias será útil para evaluar activación o tenencia de productos.\n",
        "\n",
        "🔹 Variables con Alta Ausencia\n",
        "* **CambioPin**: ~38% de valores nulos. Requiere decisión sobre imputación o eliminación, según su relevancia en el modelo.\n",
        "\n",
        "🔹 Límites de Crédito\n",
        "* **CUPO_L1 / L2 / MX**: Completos, con alta cardinalidad. Valores frecuentes como 1000.0 o 1.0 podrían corresponder a cupos mínimos estandarizados o defaults del sistema.\n"
      ]
    },
    {
      "cell_type": "code",
      "execution_count": null,
      "metadata": {
        "colab": {
          "base_uri": "https://localhost:8080/",
          "height": 320
        },
        "id": "Msl8EfQ6Bogh",
        "outputId": "82492834-b7d6-4630-90a3-e39b223bacce"
      },
      "outputs": [],
      "source": [
        "#Análisis de movimientos durante el mes de Diciembre\n",
        "df.iloc[::, list(range(21, 67)) + [573]].describe()"
      ]
    },
    {
      "cell_type": "code",
      "execution_count": 39,
      "metadata": {
        "id": "t6yoHc-LB6vr"
      },
      "outputs": [],
      "source": [
        "# Crea una copia del DataFrame para no modificar el original en las siguientes ejecuciones\n",
        "df_copia = df.copy()"
      ]
    },
    {
      "cell_type": "code",
      "execution_count": 40,
      "metadata": {
        "colab": {
          "base_uri": "https://localhost:8080/"
        },
        "id": "9vb2Z4BcDQYj",
        "outputId": "89457676-a08a-43d9-f733-b478b79b2638"
      },
      "outputs": [
        {
          "name": "stdout",
          "output_type": "stream",
          "text": [
            "Id                int64\n",
            "Subsegmento       int64\n",
            "Sexo             object\n",
            "Region          float64\n",
            "Edad              int64\n",
            "Renta            object\n",
            "Antiguedad        int64\n",
            "Internauta        int64\n",
            "Adicional         int64\n",
            "Dualidad          int64\n",
            "Monoproducto      int64\n",
            "Ctacte            int64\n",
            "Consumo           int64\n",
            "Hipotecario       int64\n",
            "Debito            int64\n",
            "CambioPin       float64\n",
            "Cuentas           int64\n",
            "TC                int64\n",
            "CUPO_L1           int64\n",
            "CUPO_L2          object\n",
            "CUPO_MX          object\n",
            "dtype: object\n"
          ]
        }
      ],
      "source": [
        "# Mostrar la media\n",
        "print(df.iloc[:, 0:21].dtypes)"
      ]
    },
    {
      "cell_type": "markdown",
      "metadata": {
        "id": "QbO0mHA1DcgY"
      },
      "source": [
        "Se inspeccionaron los tipos de las primeras columnas del dataset para identificar inconsistencias relevantes:\n",
        "\n",
        "* **Categóricas mal tipadas**: Variables como Renta, CUPO_L2, CUPO_MX están en formato object, lo que sugiere problemas de formato (p. ej., uso de comas decimales o símbolos no numéricos). Se transformarán a float tras limpieza.\n",
        "* **Variables binarias**: Columnas como Internauta, Ctacte, Hipotecario, entre otras, están correctamente como int, aunque podrían representarse como bool para mejorar la semántica.\n",
        "* **Región**: Está en formato float64, pero representa una categoría geográfica. Será convertida a tipo category para reflejar su naturaleza.\n",
        "\n",
        "Este diagnóstico guiará la conversión y estandarización de tipos durante la limpieza.\n"
      ]
    },
    {
      "cell_type": "code",
      "execution_count": null,
      "metadata": {
        "colab": {
          "base_uri": "https://localhost:8080/"
        },
        "id": "NHtzUJQeDxkG",
        "outputId": "9c240cdc-5c8f-4941-f838-8b6c26e19c0a"
      },
      "outputs": [],
      "source": [
        "# Seleccionar solo las columnas numéricas\n",
        "df_numerico = df.iloc[:, 0:21].select_dtypes(include=[np.number])\n",
        "\n",
        "# Calcular la mediana de las columnas numéricas\n",
        "mediana = df_numerico.median()\n",
        "\n",
        "# Mostrar la mediana\n",
        "print(mediana)"
      ]
    },
    {
      "cell_type": "code",
      "execution_count": null,
      "metadata": {
        "colab": {
          "base_uri": "https://localhost:8080/"
        },
        "id": "c2EpAAFREXZR",
        "outputId": "1693fc4c-7931-463f-9d42-daf0db62c172"
      },
      "outputs": [],
      "source": [
        "subset_df = df.iloc[:, :21]\n",
        "moda_result = subset_df.mode()\n",
        "print(moda_result.iloc[0])"
      ]
    },
    {
      "cell_type": "markdown",
      "metadata": {
        "id": "KJnyBRG3Eg1i"
      },
      "source": [
        "Se analizaron las medianas y modas de las variables clave para identificar tendencias centrales en el comportamiento y perfil de los clientes:\n",
        "\n",
        "🔹Perfil Demográfico y General\n",
        "* **Edad**: Mediana de 35 años, con moda en 27 → clientela relativamente joven.\n",
        "* **Antigüedad**: Mediana de 25 meses, moda de 10 meses → predominan clientes nuevos.\n",
        "* **Región**: Moda en 13.0, lo que indica alta concentración geográfica en esa zona (probablemente Santiago).\n",
        "* **Sexo**: Moda “H” → mayoría de los clientes son hombres.\n",
        "\n",
        "🔹Productos y Servicios\n",
        "* **Internauta, Débito, Ctacte, CambioPin**: Moda de 1, lo que sugiere alto uso de servicios digitales y productos básicos.\n",
        "* **Créditos (Consumo, Hipotecario), Adicionales, Dualidad**: Moda de 0 → baja adopción de productos avanzados.\n",
        "\n",
        "🔹Ingresos y Cupos\n",
        "* **Renta**:\n",
        "  * Mediana no mostrada por estar incompleta (~26% de nulos).\n",
        "  * Moda en 400.000 → posible valor común o default.\n",
        "* **CUPO_L1**: Mediana en 800.000, moda en 200.000 → límites estandarizados.\n",
        "* **CUPO_MX**: Moda en 1.000, indicando cupos internacionales bajos.\n",
        "\n",
        "🔹Tarjetas de Crédito\n",
        "* **TC (número de tarjetas)**: Mediana de 2, moda de 1 → mayoría con una sola tarjeta, pero con una fracción relevante que posee más.\n",
        "\n",
        "🔹Conclusión\n",
        "\n",
        "El banco mantiene una base joven, mayoritariamente masculina y reciente, con acceso preferente a productos digitales y básicos. La baja adopción de productos financieros complejos sugiere oportunidades en venta cruzada (cross-sell) o estrategias de fidelización."
      ]
    },
    {
      "cell_type": "code",
      "execution_count": null,
      "metadata": {
        "colab": {
          "base_uri": "https://localhost:8080/",
          "height": 458
        },
        "id": "lwfI19RwE-Fd",
        "outputId": "074e70ad-9eb3-4136-dc86-1db5aec22344"
      },
      "outputs": [],
      "source": [
        "df_copia.isnull().sum()"
      ]
    },
    {
      "cell_type": "markdown",
      "metadata": {
        "id": "NcLwJfVeFJvB"
      },
      "source": [
        "Se identificaron valores nulos en un subconjunto de variables:\n",
        "\n",
        "| Variable | Nulos | Comentario                                                               |\n",
        "| -------- | ----- | ------------------------------------------------------------------------ |\n",
        "| Sexo     | 1     | Valor faltante puntual, puede imputarse con la moda                      |\n",
        "| Region   | 53    | Faltantes más relevantes; requiere análisis antes de imputar o eliminar. |\n",
        "| Otras    | 0     | Completas                                                                |\n",
        "\n",
        "🔹Observaciones clave:\n",
        "* La mayoría de las columnas críticas están completas.\n",
        "* Las columnas con nulos tienen baja proporción sobre el total (51.124 registros), por lo que imputar con valores dominantes o eliminar esos pocos registros no tendría impacto significativo.\n",
        "* En etapas posteriores se definirá si se imputan (Region, Sexo) o si se excluyen, según su relevancia en el modelado.\n"
      ]
    },
    {
      "cell_type": "code",
      "execution_count": null,
      "metadata": {
        "colab": {
          "base_uri": "https://localhost:8080/"
        },
        "id": "FdUQZcX5P9g6",
        "outputId": "dd2d9852-ec0e-475a-c2f1-c07246f98ca6"
      },
      "outputs": [],
      "source": [
        "# Conversión de Renta a numérico\n",
        "df_copia['Renta'] = pd.to_numeric(df['Renta'], errors='coerce')\n",
        "\n",
        "# Imputaciones\n",
        "df_copia['Sexo'] = df_copia['Sexo'].fillna(df['Sexo'].mode()[0])\n",
        "df_copia['Region'] = df_copia['Region'].fillna(df['Region'].mode()[0])\n",
        "df_copia['Renta'] = df_copia.groupby('Subsegmento')['Renta'].transform(lambda x: x.fillna(x.median()))\n",
        "df_copia['CambioPin'] = df_copia['CambioPin'].fillna(df['CambioPin'].median())\n",
        "\n",
        "# Nota: Aunque actualmente no hay nulos en 'Renta' ni 'CambioPin',\n",
        "# estas imputaciones están incluidas como medida preventiva para garantizar\n",
        "# estabilidad si se aplicara el pipeline a nuevos datos."
      ]
    },
    {
      "cell_type": "markdown",
      "metadata": {
        "id": "OZSyASLqQj0g"
      },
      "source": [
        "Este bloque de código ejecuta la limpieza e imputación de datos faltantes en el DataFrame df_copia, con el objetivo de garantizar que las columnas críticas estén completas y correctamente tipadas. Esta etapa es esencial para evitar errores en etapas posteriores del análisis y asegurar la integridad del pipeline de modelado.\n"
      ]
    },
    {
      "cell_type": "code",
      "execution_count": null,
      "metadata": {
        "colab": {
          "base_uri": "https://localhost:8080/"
        },
        "id": "5T4vXRt5QBWQ",
        "outputId": "7528e0b7-6cf1-4a18-bfe3-3de8ffc52f99"
      },
      "outputs": [],
      "source": [
        "# Convertir variables numéricas que están en formato object a float\n",
        "# Primero, eliminar caracteres especiales que impidan la conversión\n",
        "\n",
        "# Remover posibles símbolos de moneda y convertir a numérico\n",
        "df_copia['Renta'] = pd.to_numeric(df['Renta'], errors='coerce')\n",
        "df_copia['CUPO_L1'] = pd.to_numeric(df['CUPO_L1'], errors='coerce')\n",
        "df_copia['CUPO_L2'] = pd.to_numeric(df['CUPO_L2'], errors='coerce')\n",
        "df_copia['CUPO_MX'] = pd.to_numeric(df['CUPO_MX'], errors='coerce')\n",
        "\n",
        "# Verificar la conversión\n",
        "print(df[['Renta', 'CUPO_L1', 'CUPO_L2', 'CUPO_MX']].dtypes)\n",
        "\n",
        "# Convertir `Region` a tipo categórico\n",
        "df_copia['Region'] = df_copia['Region'].astype('category')\n"
      ]
    },
    {
      "cell_type": "code",
      "execution_count": 46,
      "metadata": {
        "id": "4Dp6HdYYQCXK"
      },
      "outputs": [],
      "source": [
        "# Función para filtrar outliers utilizando el rango intercuartílico (IQR)\n",
        "def remove_outliers(df, column):\n",
        "    Q1 = df_copia[column].quantile(0.25)\n",
        "    Q3 = df_copia[column].quantile(0.75)\n",
        "    IQR = Q3 - Q1\n",
        "    # Filtra los datos fuera del rango IQR\n",
        "    filtered_df = df_copia[(df_copia[column] >= Q1 - 1.5 * IQR) & (df_copia[column] <= Q3 + 1.5 * IQR)]\n",
        "    return filtered_df\n",
        "\n",
        "# Aplicar la función en algunas de las variables financieras clave\n",
        "df_copia = remove_outliers(df_copia, 'Renta')\n",
        "df_copia = remove_outliers(df_copia, 'CUPO_L1')\n",
        "df_copia = remove_outliers(df_copia, 'CUPO_L2')\n",
        "df_copia = remove_outliers(df_copia, 'CUPO_MX')\n"
      ]
    },
    {
      "cell_type": "code",
      "execution_count": null,
      "metadata": {
        "colab": {
          "base_uri": "https://localhost:8080/"
        },
        "id": "eO1NH22QQDWd",
        "outputId": "620e15b6-8679-40a4-f938-a44f5345aa79"
      },
      "outputs": [],
      "source": [
        "# Estandarización de variables financieras clave (para modelos de regresión lineal o logística)\n",
        "scaler = StandardScaler()\n",
        "df_copia[['Renta', 'CUPO_L1', 'CUPO_L2', 'CUPO_MX']] = scaler.fit_transform(df_copia[['Renta', 'CUPO_L1', 'CUPO_L2', 'CUPO_MX']])\n",
        "\n",
        "# Normalización de las variables de transacciones (para modelos como K-Means)\n",
        "transacciones_mensuales = [f'Txs_T{i:02}' for i in range(1, 13)]\n",
        "scaler = MinMaxScaler()\n",
        "df_copia[transacciones_mensuales] = scaler.fit_transform(df_copia[transacciones_mensuales])\n",
        "\n",
        "# Revisar los resultados de la normalización y estandarización\n",
        "print(df_copia[['Renta', 'CUPO_L1', 'CUPO_L2', 'CUPO_MX']].describe())\n",
        "print(df_copia[transacciones_mensuales].describe())"
      ]
    },
    {
      "cell_type": "code",
      "execution_count": null,
      "metadata": {
        "colab": {
          "base_uri": "https://localhost:8080/",
          "height": 586
        },
        "id": "ARQTRAhlNYf-",
        "outputId": "70d9bdc1-e32a-4247-84a1-0ed5f71ffa22"
      },
      "outputs": [],
      "source": [
        "# Verificar el tipo de dato del target\n",
        "print(\"Tipo de dato del target:\", df_copia['total_transacciones_anual'].dtype)\n",
        "\n",
        "# Visualizar la distribución del target con un histograma y un gráfico de densidad\n",
        "plt.figure(figsize=(12, 6))\n",
        "\n",
        "# Histograma\n",
        "plt.subplot(1, 2, 1)\n",
        "plt.hist(df_copia['total_transacciones_anual'].dropna(), bins=30, color='skyblue', edgecolor='black')\n",
        "plt.title('Distribución del Target (Histograma)')\n",
        "plt.xlabel('Total de Transacciones Anual')\n",
        "plt.ylabel('Frecuencia')\n",
        "\n",
        "# Gráfico de Densidad (KDE)\n",
        "plt.subplot(1, 2, 2)\n",
        "sns.kdeplot(df_copia['total_transacciones_anual'].dropna(), color='blue')\n",
        "plt.title('Distribución del Target (Densidad)')\n",
        "plt.xlabel('Total de Transacciones Anual')\n",
        "plt.ylabel('Densidad')\n",
        "\n",
        "plt.tight_layout()\n",
        "plt.show()\n"
      ]
    },
    {
      "cell_type": "markdown",
      "metadata": {
        "id": "7HvWfABMNtly"
      },
      "source": [
        "🔹Análisis del Target\n",
        "* **Tipo de Dato**:\n",
        "  * El target, correspondiente al total anual de transacciones por cliente, está en formato float64. Este tipo de dato es adecuado para modelado de regresión, ya que representa una variable numérica continua.\n",
        "* **Distribución del Target – Histograma**:\n",
        "  * La mayoría de los clientes concentra sus transacciones anuales en valores bajos, próximos a cero.\n",
        "  * La distribución presenta un sesgo positivo (cola a la derecha), con una frecuencia decreciente a medida que aumentan las transacciones. Pocos clientes superan las 100 transacciones anuales.\n",
        "* **Distribución del Target – Curva de Densidad (KDE)**:\n",
        "  * El KDE reafirma la concentración en valores bajos, con un pico marcado en la zona inicial de la escala y una larga cola hacia la derecha.\n",
        "  * Este patrón sugiere una fuerte asimetría en la base de clientes: una mayoría con baja actividad y una minoría altamente activa.\n",
        "\n",
        "🔹Conclusiones\n",
        "* **Distribución Sesgada**:\n",
        "  * El sesgo del target puede afectar la capacidad de los modelos de regresión para generalizar correctamente, especialmente si el objetivo es predecir con precisión los valores más altos (clientes altamente activos).\n",
        "* **Transformación Recomendada**:\n",
        "  * Aplicar una transformación logarítmica o raíz cuadrada podría reducir la asimetría y estabilizar la varianza, facilitando un aprendizaje más equilibrado por parte del modelo. Esta decisión dependerá de si se prioriza mejorar el ajuste general o capturar mejor los valores extremos."
      ]
    },
    {
      "cell_type": "code",
      "execution_count": null,
      "metadata": {
        "colab": {
          "base_uri": "https://localhost:8080/",
          "height": 569
        },
        "id": "594m5Ue0N4jb",
        "outputId": "8d2b2d0e-4028-4e4a-8e44-5470a4bf7d05"
      },
      "outputs": [],
      "source": [
        "# Aplicar una transformación logarítmica al target para reducir el sesgo\n",
        "df_copia['total_transacciones_anual_log'] = np.log1p(df_copia['total_transacciones_anual'])\n",
        "\n",
        "# Visualizar la distribución del target transformado\n",
        "plt.figure(figsize=(12, 6))\n",
        "plt.subplot(1, 2, 1)\n",
        "plt.hist(df_copia['total_transacciones_anual_log'].dropna(), bins=30, color='skyblue', edgecolor='black')\n",
        "plt.title('Distribución del Target Transformado (Histograma)')\n",
        "plt.xlabel('Log(1 + Total de Transacciones Anual)')\n",
        "plt.ylabel('Frecuencia')\n",
        "\n",
        "plt.subplot(1, 2, 2)\n",
        "sns.kdeplot(df_copia['total_transacciones_anual_log'].dropna(), color='blue')\n",
        "plt.title('Distribución del Target Transformado (Densidad)')\n",
        "plt.xlabel('Log(1 + Total de Transacciones Anual)')\n",
        "plt.ylabel('Densidad')\n",
        "\n",
        "plt.tight_layout()\n",
        "plt.show()\n"
      ]
    },
    {
      "cell_type": "markdown",
      "metadata": {
        "id": "avie3c_OOfb5"
      },
      "source": [
        "🔹Evaluación de la Transformación Logarítmica del Target\n",
        "\n",
        "La aplicación de una transformación logarítmica al target ha generado mejoras significativas en su distribución, lo que tiene implicancias directas sobre la calidad del modelado.\n",
        "* **Distribución Más Simétrica**:\n",
        "  * Tras la transformación, los valores del target se distribuyen de forma más equilibrada alrededor del centro. La forma de la curva se aproxima a una distribución normal, lo que favorece el uso de modelos que asumen simetría en los residuos.\n",
        "* **Reducción del Sesgo**:\n",
        "  * El sesgo positivo presente en los datos originales —concentración en valores bajos y una cola larga hacia la derecha— se ha mitigado. Esto reduce la influencia desproporcionada de los valores extremos sobre el ajuste del modelo.\n",
        "* **Beneficios para el Modelado Predictivo**:\n",
        "  * Una distribución más balanceada permite que los algoritmos de regresión capturen relaciones con mayor precisión a lo largo de todo el rango del target. Esto puede traducirse en:\n",
        "    * Mejor capacidad de generalización.\n",
        "    * Reducción del error en predicciones extremas.\n",
        "    * Menor sensibilidad a outliers.\n",
        "\n",
        "🔹Justificación del Uso de np.log1p para la Transformación del Target\n",
        "\n",
        "Se utilizó np.log1p(x) en lugar de np.log(x) para transformar el target debido a las siguientes razones:\n",
        "* **Manejo de ceros sin errores**:\n",
        "  * A diferencia de np.log(x), que no admite valores iguales a cero (lo que generaría un error o -inf), np.log1p(x) calcula log(1 + x), permitiendo transformar valores cero de forma segura. Esto es especialmente relevante en contextos donde el target puede representar conteos o montos que incluyen ceros.\n",
        "* **Estabilidad numérica**:\n",
        "  * np.log1p ofrece mayor precisión para valores pequeños de x, evitando errores de redondeo o pérdida de información significativa que puede ocurrir con np.log(1 + x) de forma manual.\n",
        "* **Conservación de la escala relativa**:\n",
        "  * Aunque suaviza menos que una logaritmización más agresiva, np.log1p mantiene relaciones proporcionales importantes para modelos de regresión que requieren interpretar variaciones relativas.\n",
        "* **Conclusión**:\n",
        "  * El uso de np.log1p garantiza una transformación segura, estable y efectiva del target, facilitando una mejor distribución sin comprometer la integridad de los datos.\n",
        "\n",
        "---"
      ]
    },
    {
      "cell_type": "markdown",
      "metadata": {
        "id": "4BgWYI1KG3dp"
      },
      "source": [
        "## Modelado\n",
        "\n",
        "En esta etapa se implementan modelos de machine learning con el objetivo de identificar patrones en el comportamiento de los clientes y predecir su probabilidad de retención.\n",
        "\n",
        "🔹Objetivo del Modelado\n",
        "\n",
        "El propósito principal es construir un modelo supervisado capaz de clasificar a los clientes en función de su comportamiento financiero, específicamente en relación con su nivel de actividad transaccional anual (target binarizado). Este tipo de análisis es clave para anticipar abandono o desuso de productos financieros y orientar campañas de retención.\n",
        "\n",
        "🔹Modelos Considerados\n",
        "\n",
        "* **Regresión Logística**:\n",
        "  * Modelo base de clasificación binaria, útil por su interpretabilidad y capacidad para manejar relaciones lineales entre variables independientes y la probabilidad de una clase (en este caso, clientes con alta o baja actividad).\n",
        "* **Árboles de Decisión**:\n",
        "  * Utilizados como alternativa más flexible, permiten capturar relaciones no lineales y generan reglas claras para interpretar la segmentación de clientes. Son especialmente útiles en entornos con múltiples variables categóricas y umbrales de decisión.\n",
        "* **K-Means (Clustering)**:\n",
        "  * Aplicado como método no supervisado para segmentar clientes en grupos según similitudes en sus patrones de uso. Este análisis complementa el modelado supervisado, ya que permite descubrir perfiles ocultos en la base de clientes, incluso sin etiquetas explícitas.\n",
        "\n",
        "🔹Preparación de los Datos para el Modelado\n",
        "* **División de Datos**:\n",
        "  * El dataset se divide en un conjunto de entrenamiento (80%) y uno de prueba (20%) mediante train_test_split, garantizando que la evaluación del modelo se realice sobre datos no vistos.\n",
        "* **Validación Cruzada**:\n",
        "  * En el caso de modelos supervisados como la regresión logística, se emplea validación cruzada (k-fold) para evaluar la estabilidad del modelo y prevenir el sobreajuste. Esto permite obtener métricas más robustas en escenarios con alta varianza.\n",
        "* **Estandarización y Codificación**:\n",
        "  * Se construye un pipeline de preprocesamiento que transforma las variables numéricas (escaladas con StandardScaler) y categóricas (codificadas con OneHotEncoder), permitiendo que el modelo procese adecuadamente las distintas escalas y tipos de variables.\n"
      ]
    },
    {
      "cell_type": "code",
      "execution_count": null,
      "metadata": {
        "id": "iPt8gU06IiXZ"
      },
      "outputs": [],
      "source": [
        "# Selección de features y target (con transformación logarítmica)\n",
        "X = df_copia.drop(columns=['total_transacciones_anual', 'total_transacciones_anual_log'])  # todas las columnas menos el target\n",
        "y = df_copia['total_transacciones_anual_log']  # el target log-transformado\n",
        "\n",
        "# División de los datos en conjuntos de entrenamiento y prueba\n",
        "X_train, X_test, y_train, y_test = train_test_split(X, y, test_size=0.2, random_state=42)"
      ]
    },
    {
      "cell_type": "markdown",
      "metadata": {
        "id": "_BLFxj1Koune"
      },
      "source": [
        "🔹División de Variables y Separación de Datos\n",
        "\n",
        "1. **Selección de Variables Predictoras (X) y Target (y)**\n",
        "* Se define `X` como el subconjunto de variables independientes, excluyendo tanto el target original (`total_transacciones_anual`) como su transformación (`total_transacciones_anual_log`), para evitar fuga de información durante el entrenamiento.\n",
        "* La variable objetivo y corresponde a `total_transacciones_anual_log`, una transformación logarítmica del total de transacciones anuales. Esta transformación permite suavizar la distribución del target y mejora el rendimiento en modelos sensibles al sesgo como la regresión lineal.\n",
        "\n",
        "2. **División del Dataset en Entrenamiento y Prueba**\n",
        "* Se utiliza `train_test_split` para dividir el dataset en un conjunto de entrenamiento (`80%`) y otro de prueba (`20%`).\n",
        "* El parámetro `random_state=42` garantiza la reproducibilidad del experimento, asegurando que la partición de datos sea consistente a lo largo de ejecuciones sucesivas."
      ]
    },
    {
      "cell_type": "code",
      "execution_count": null,
      "metadata": {
        "colab": {
          "base_uri": "https://localhost:8080/"
        },
        "id": "JEaf_Y0NNUf5",
        "outputId": "f94c6f37-7beb-49ff-80dd-59b0cead2d91"
      },
      "outputs": [],
      "source": [
        "# Identificar columnas que son de tipo `object`\n",
        "object_columns = X.select_dtypes(include=['object']).columns\n",
        "\n",
        "# Intentar convertir columnas numéricas con formato de coma decimal\n",
        "for col in object_columns:\n",
        "    try:\n",
        "        # Reemplazar comas con puntos y convertir a float\n",
        "        X[col] = X[col].str.replace(',', '.').astype(float)\n",
        "        print(f\"Columna {col} convertida a numérica con éxito.\")\n",
        "    except ValueError:\n",
        "        print(f\" /!\\ Advertencia: Columna '{col}' no se pudo convertir a numérica, aún contiene valores no numéricos.\")\n"
      ]
    },
    {
      "cell_type": "markdown",
      "metadata": {
        "id": "npNpkKv5o_km"
      },
      "source": [
        "🔹Conversión de Columnas Categóricas Mal Tipadas a Formato Numérico\n",
        "\n",
        "Este bloque de código estandariza columnas originalmente clasificadas como object que, en realidad, contienen datos numéricos representados con comas decimales (formato común en regiones hispanohablantes).\n",
        "\n",
        "* **Detección de Columnas Problemáticas**\n",
        "  * Se identifican todas las columnas con tipo de dato `object`, ya que estas pueden contener valores numéricos mal interpretados como texto por el parser inicial (por ejemplo, `982,45`).\n",
        "* **Normalización del Formato Numérico**\n",
        "  * Para cada columna identificada, se reemplazan las comas por puntos (',' → '.') y se intenta convertir los valores a tipo `float`.\n",
        "  * Las conversiones exitosas se notifican con un mensaje informativo; si la conversión falla (por ejemplo, por contener texto irreconciliable con una representación numérica), se genera una advertencia controlada.\n",
        "\n",
        "Este paso es fundamental para evitar errores durante el preprocesamiento y asegurar que todas las variables numéricas estén en el formato adecuado para el análisis y modelado."
      ]
    },
    {
      "cell_type": "code",
      "execution_count": null,
      "metadata": {
        "colab": {
          "base_uri": "https://localhost:8080/"
        },
        "id": "N8Fswv68LxZ4",
        "outputId": "eeea02f3-0a96-4370-b632-286b8fb3fee8"
      },
      "outputs": [],
      "source": [
        "# Detectar columnas categóricas en el DataFrame X\n",
        "categorical_columns = X.select_dtypes(include=['object', 'category']).columns\n",
        "\n",
        "# Identificar qué columnas pueden utilizar LabelEncoder y cuáles requieren OneHotEncoder\n",
        "label_encode_cols = []\n",
        "onehot_encode_cols = []\n",
        "\n",
        "# Iterar sobre las columnas categóricas y contar las categorías únicas\n",
        "for col in categorical_columns:\n",
        "    unique_values = X[col].nunique()\n",
        "\n",
        "    if unique_values == 2:\n",
        "        # Si tiene solo dos categorías, se puede usar LabelEncoder\n",
        "        label_encode_cols.append(col)\n",
        "    else:\n",
        "        # Si tiene más de dos categorías, se recomienda OneHotEncoder\n",
        "        onehot_encode_cols.append(col)\n",
        "\n",
        "# Mostrar resultados\n",
        "print(\"Columnas para LabelEncoder (2 categorías):\", label_encode_cols)\n",
        "print(\"Columnas para OneHotEncoder (más de 2 categorías):\", onehot_encode_cols)\n"
      ]
    },
    {
      "cell_type": "markdown",
      "metadata": {
        "id": "iNbqhEzQpVG3"
      },
      "source": [
        "🔹Clasificación de Variables Categóricas para Codificación\n",
        "\n",
        "Este bloque organiza las columnas categóricas en función del tipo de codificación más apropiado, optimizando así su tratamiento antes del modelado.\n",
        "\n",
        "* **Identificación de Columnas Categóricas**\n",
        "  * Se seleccionan todas las columnas en `X` con tipo `object` o `category`, lo que usualmente representa variables con etiquetas no numéricas (por ejemplo, género, región, tipo de producto).\n",
        "* **Segmentación según Número de Categorías**\n",
        "  * Cada columna categórica se analiza según su cardinalidad (cantidad de valores únicos).\n",
        "    * Si tiene exactamente dos categorías, se asigna a `label_encode_cols`, ya que puede representarse eficientemente con `LabelEncoder`.\n",
        "    * Si tiene más de dos categorías, se asigna a `onehot_encode_cols`, ya que `OneHotEncoder` evita introducir orden implícito en variables no ordinales.\n",
        "* **Resultado del Análisis**\n",
        "  * Se imprime una lista diferenciada de columnas según el tipo de codificación recomendado. Esto facilita el diseño posterior del pipeline de preprocesamiento, asegurando un tratamiento correcto de las variables categóricas en el modelo.\n",
        "\n",
        "Este paso es crucial para garantizar que el modelo reciba entradas numéricas bien estructuradas, evitando sesgos implícitos y mejorando su rendimiento general."
      ]
    },
    {
      "cell_type": "code",
      "execution_count": null,
      "metadata": {
        "id": "Mk1c4U-wNeEY"
      },
      "outputs": [],
      "source": [
        "# Aplicar LabelEncoder a las columnas binarias\n",
        "for col in label_encode_cols:\n",
        "    X[col] = LabelEncoder().fit_transform(X[col])\n",
        "\n",
        "# Aplicar OneHotEncoder a las columnas con más de 2 categorías\n",
        "encoder = OneHotEncoder(drop='first', sparse_output=True)\n",
        "X_encoded = encoder.fit_transform(X[onehot_encode_cols])\n",
        "\n",
        "# Combinar las características numéricas y categóricas codificadas\n",
        "X_rest = X.drop(columns=onehot_encode_cols)\n",
        "X_sparse = hstack([X_rest, X_encoded])\n",
        "\n",
        "# División en conjunto de entrenamiento y prueba\n",
        "X_train, X_test, y_train, y_test = train_test_split(X_sparse, y, test_size=0.2, random_state=42)"
      ]
    },
    {
      "cell_type": "markdown",
      "metadata": {
        "id": "IcPPIl4ppgAZ"
      },
      "source": [
        "🔹Codificación de Variables Categóricas y Preparación Final de Datos\n",
        "\n",
        "* **Codificación con LabelEncoder**\n",
        "  * Se aplica a columnas binarias (`label_encode_cols`) para transformarlas directamente en valores numéricos (`0` y `1`), manteniendo la estructura original sin expansión dimensional.\n",
        "* **Codificación con OneHotEncoder**\n",
        "  * Para columnas con más de dos categorías (`onehot_encode_cols`), se utiliza `OneHotEncoder` con `drop='first'` para evitar multicolinealidad.\n",
        "  * La opción `sparse_output=True` genera una matriz dispersa eficiente en memoria.\n",
        "* **Integración del Dataset Codificado**\n",
        "  * `X_rest` conserva las columnas no categóricas.\n",
        "  * La matriz final `X_sparse` se obtiene al combinar `X_rest` con la matriz codificada `X_encoded` mediante `hstack`, integrando variables categóricas y numéricas en una estructura apta para el modelado.\n",
        "* **División de Datos**\n",
        " * Los datos se dividen en conjuntos de entrenamiento y prueba (`X_train`, `X_test`, `y_train`, `y_test`) mediante `train_test_split`, reservando el 20% para validación (`test_size=0.2`) y asegurando reproducibilidad con `random_state=42`."
      ]
    },
    {
      "cell_type": "code",
      "execution_count": null,
      "metadata": {
        "id": "-V9SIlB1Ofdd"
      },
      "outputs": [],
      "source": [
        "# Imputación de NaN con la más frecuente de cada columna\n",
        "imputer = SimpleImputer(strategy=\"most_frequent\")\n",
        "X_train = imputer.fit_transform(X_train)\n",
        "X_test = imputer.transform(X_test)\n"
      ]
    },
    {
      "cell_type": "markdown",
      "metadata": {
        "id": "6Axa1HfCp19D"
      },
      "source": [
        "🔹Imputación de Valores Faltantes con SimpleImputer\n",
        "* **Definición del Imputador**\n",
        "  * Se utiliza `SimpleImputer(strategy=\"most_frequent\")` para reemplazar los valores nulos (`NaN`) por el valor más frecuente de cada columna. Esta estrategia es útil para variables categóricas o numéricas discretas con una moda dominante.\n",
        "* **Aplicación en el Conjunto de Entrenamiento**\n",
        "  * `fit_transform(X_train)` ajusta el imputador aprendiendo el valor más frecuente de cada columna y lo aplica inmediatamente sobre `X_train`, garantizando consistencia interna.\n",
        "* **Aplicación en el Conjunto de Prueba**\n",
        "  * `transform(X_test)` aplica la imputación aprendida desde `X_train` a `X_test`, asegurando que no se introduzca información del conjunto de prueba durante el entrenamiento (principio de no-leakage)."
      ]
    },
    {
      "cell_type": "code",
      "execution_count": null,
      "metadata": {
        "colab": {
          "base_uri": "https://localhost:8080/"
        },
        "id": "NZLUQWnJKj23",
        "outputId": "52a06b5c-18d1-42d3-d097-c499dcc89b36"
      },
      "outputs": [],
      "source": [
        "# Entrenar un modelo de Regresión Lineal\n",
        "linear_model = LinearRegression()\n",
        "\n",
        "# Realizar predicciones con validación cruzada\n",
        "y_pred_cv = cross_val_predict(linear_model, X_train, y_train, cv=4)\n",
        "\n",
        "# Calcular las métricas en validación cruzada\n",
        "mse_cv = mean_squared_error(y_train, y_pred_cv)\n",
        "mae_cv = mean_absolute_error(y_train, y_pred_cv)\n",
        "rmse_cv = np.sqrt(mse_cv)\n",
        "\n",
        "print(f\"MSE Regresión Lineal: {mse_cv:.4f}\")\n",
        "print(f\"MAE Regresión Lineal: {mae_cv:.4f}\")\n",
        "print(f\"RMSE Regresión Lineal: {rmse_cv:.4f}\")\n"
      ]
    },
    {
      "cell_type": "markdown",
      "metadata": {
        "id": "yPITPpu8qG3W"
      },
      "source": [
        "🔹Evaluación del Modelo de Regresión Lineal (Baseline)\n",
        "\n",
        "Este modelo fue utilizado únicamente como baseline inicial para establecer un punto de comparación. No se considera adecuado para producción debido a limitaciones en su rendimiento predictivo.\n",
        "\n",
        "1. **Entrenamiento y Evaluación**\n",
        "* **Modelo**: `LinearRegression()`\n",
        "* **Entrenamiento**: Se ajustó sobre los datos `X_train` y `y_train`.\n",
        "* **Validación cruzada**: Se utilizó cross_val_score con 4 pliegues (`cv=4`), evaluando con la métrica neg_mean_squared_error.\n",
        "* **Promedio del MSE**: Se calculó invirtiendo el signo de la media para interpretar el error en forma positiva.\n",
        "\n",
        "2. **Resultados**\n",
        "* **MSE (Mean Squared Error)**: ~0.31\n",
        "  * Refleja un error cuadrático promedio bajo en la escala logarítmica del target (log(1 + transacciones)), que va aproximadamente de 0 a 6.\n",
        "* **MAE (Mean Absolute Error)**: ~0.43\n",
        "  * Indica que la desviación promedio de las predicciones es de 0.43 unidades en la escala logarítmica.\n",
        "* **RMSE (Root Mean Squared Error)**: ~0.55\n",
        "  * Proporciona una métrica más intuitiva de error promedio. En este caso, también es bajo, lo que implica que no hay errores extremos frecuentes.\n",
        "\n",
        "3. **Conclusión**\n",
        "Aunque los errores obtenidos son bajos en términos absolutos, la regresión lineal no captura relaciones no lineales ni interacciones complejas entre variables. Por ello, aunque sirve como referencia inicial, se requiere un modelo más robusto para mejorar la capacidad predictiva y explotar mejor la estructura del dataset."
      ]
    },
    {
      "cell_type": "code",
      "execution_count": null,
      "metadata": {
        "colab": {
          "base_uri": "https://localhost:8080/"
        },
        "id": "fOBewSsYv5F-",
        "outputId": "736ff131-0843-4a8a-aec6-7a931ff93309"
      },
      "outputs": [],
      "source": [
        "# Paso 1: Convertir variables categóricas en X a numéricas usando OneHotEncoder\n",
        "X_encoded = pd.get_dummies(X, drop_first=True)\n",
        "\n",
        "# Paso 2: Concatenar X_encoded e y en un único DataFrame para el cálculo de la correlación\n",
        "if 'target' in X_encoded.columns:\n",
        "    X_encoded = X_encoded.drop(columns='target')\n",
        "df_combined = pd.concat([X_encoded, y.rename(\"target\")], axis=1)\n",
        "\n",
        "# Paso 3: Calcular la matriz de correlación en el DataFrame combinado\n",
        "correlation_matrix = df_combined.corr()\n",
        "\n",
        "# Paso 4: Extraer la fila de correlación del target y ordenarla usando 'by'\n",
        "try:\n",
        "    # Filtramos las correlaciones con respecto al 'target', convirtiéndolas en un DataFrame si es necesario\n",
        "    target_correlation = correlation_matrix[['target']].drop(index='target').sort_values(by='target', ascending=False)\n",
        "\n",
        "    # Mostrar las 10 características con mayor correlación con el target\n",
        "    print(\"Top 10 features más correlacionados con el target:\")\n",
        "    print(target_correlation.head(10))\n",
        "except KeyError:\n",
        "    print(\"Error: La columna 'target' no se encuentra en correlation_matrix.\")"
      ]
    },
    {
      "cell_type": "markdown",
      "metadata": {
        "id": "6KdfGIBtu46l"
      },
      "source": [
        "🔹Selección del Target para Modelos de Clasificación\n",
        "\n",
        "* **Target elegido**: Probabilidad de Retención de Clientes\n",
        "  * **Definición**: Clasificación binaria que distingue entre clientes con alta probabilidad de abandono y aquellos con baja probabilidad de abandono.\n",
        "    *  Esta variable se puede construir a partir de indicadores como frecuencia de transacciones, antigüedad, uso de productos financieros y niveles de actividad reciente.\n",
        "  * **Justificación de Negocio**\n",
        "    * Este target es altamente accionable. Permite a Dormammu identificar clientes en riesgo de fuga y diseñar estrategias de retención proactiva. Al anticipar la pérdida de clientes, el banco puede intervenir con ofertas personalizadas, campañas de fidelización o ajustes en productos, mejorando la rentabilidad a largo plazo y reduciendo los costos de adquisición de nuevos clientes."
      ]
    },
    {
      "cell_type": "code",
      "execution_count": 115,
      "metadata": {
        "id": "k45_qqKs3FF8"
      },
      "outputs": [],
      "source": [
        "# Filtrar solo columnas numéricas para escalamiento\n",
        "num_features = X.select_dtypes(include=[np.number]).columns\n",
        "X[num_features] = StandardScaler().fit_transform(X[num_features])"
      ]
    },
    {
      "cell_type": "code",
      "execution_count": null,
      "metadata": {
        "colab": {
          "base_uri": "https://localhost:8080/"
        },
        "id": "FrNvoCZOgNQB",
        "outputId": "2f20b77d-2766-4e11-fe2a-88da4c72825e"
      },
      "outputs": [],
      "source": [
        "# Codificación One-Hot de variables categóricas con más de dos categorías\n",
        "encoder = OneHotEncoder(drop='first', sparse_output=False)\n",
        "categorical_features = ['Region', 'IndRev_T01']\n",
        "X_encoded = encoder.fit_transform(X[categorical_features])\n",
        "\n",
        "# Combinar las características codificadas con el resto del DataFrame\n",
        "X_rest = X.drop(columns=categorical_features)\n",
        "X_final = pd.concat([pd.DataFrame(X_encoded, columns=encoder.get_feature_names_out(categorical_features)), X_rest.reset_index(drop=True)], axis=1)\n",
        "\n",
        "# Verificación del resultado\n",
        "print(\"Primeras filas del DataFrame codificado:\")\n",
        "print(X_final.head())"
      ]
    },
    {
      "cell_type": "markdown",
      "metadata": {
        "id": "JWyjyNCP9TNP"
      },
      "source": [
        "🔹Transformación de Atributos para Modelos de Clasificación\n",
        "\n",
        "Para adaptar el conjunto de datos a modelos de clasificación, se realizó la transformación de variables categóricas mediante codificación One-Hot, asegurando que todas las columnas estén en formato numérico y apropiadas para aprendizaje supervisado.\n",
        "\n",
        "1. **Codificación One-Hot**\n",
        "* **Objetivo**: Convertir variables categóricas como `Region` o `IndRev_T01` en un formato binario interpretable por modelos de machine learning.\n",
        "* **Método**: Cada categoría única se transforma en una columna binaria (`0` o `1`). Se utilizó `drop='first'` para evitar colinealidad entre variables generadas.\n",
        "* **Ejemplo de columnas resultantes**: `Region_2.0`, `Region_3.0`, etc., indican presencia de cada categoría.\n",
        "\n",
        "2. **Integración con el Dataset**\n",
        "* Las variables codificadas se combinaron con las variables numéricas originales y derivadas para conformar el conjunto final (`X_final`).\n",
        "* El resultado es una matriz de características puramente numérica, lista para alimentar modelos de clasificación como regresión logística, árboles de decisión, o modelos basados en boosting.\n",
        "\n",
        "3. **Inspección del Resultado**\n",
        "* Las primeras filas de `X_final` muestran la correcta conversión de variables categóricas y la conservación de variables numéricas clave como Edad, Renta, Antigüedad, y diversos indicadores de actividad financiera.\n",
        "* El dataset resultante ofrece una representación estructurada y compatible con técnicas de modelado modernas."
      ]
    },
    {
      "cell_type": "code",
      "execution_count": null,
      "metadata": {
        "colab": {
          "base_uri": "https://localhost:8080/",
          "height": 545
        },
        "id": "T8bqQdbmdwhi",
        "outputId": "4894f20e-448a-4b76-a31b-8c508816c2e2"
      },
      "outputs": [],
      "source": [
        "# Visualización de la correlación entre características seleccionadas\n",
        "\n",
        "# Selección de características específicas para la matriz de correlación\n",
        "selected_features = ['Edad', 'Renta', 'Antiguedad', 'CUPO_L1', 'CUPO_L2', 'CUPO_MX']\n",
        "\n",
        "# Generar la matriz de correlación solo para las características seleccionadas\n",
        "correlation_matrix = X[selected_features].corr()\n",
        "\n",
        "# Visualizar la matriz de correlación\n",
        "plt.figure(figsize=(8, 6))\n",
        "sns.heatmap(correlation_matrix, annot=True, cmap=\"coolwarm\", fmt=\".2f\", cbar_kws={'label': 'Correlación'})\n",
        "plt.title(\"Matriz de Correlación de Características Numéricas \")\n",
        "plt.show()"
      ]
    },
    {
      "cell_type": "markdown",
      "metadata": {
        "id": "Jx23WZJ4CTIe"
      },
      "source": [
        "🔹Análisis de Correlación entre Variables Numéricas\n",
        "\n",
        "La matriz de correlación presentada analiza la relación lineal entre seis variables clave: `Edad`, `Renta`, `Antigüedad`, `CUPO_L1`, `CUPO_L2` y `CUPO_MX`. Los coeficientes de correlación oscilan entre -1 y 1, donde:\n",
        "\n",
        "* +1: Correlación positiva perfecta.\n",
        "* -1: Correlación negativa perfecta.\n",
        "* 0: Ausencia de correlación lineal.\n",
        "\n",
        "Principales Hallazgos\n",
        "* **`CUPO_L1` vs. `CUPO_MX` (r = 0.66)**\n",
        "  * Existe una correlación moderadamente alta entre el límite de compras nacionales (`CUPO_L1`) y el cupo internacional (`CUPO_MX`), lo que indica que ambos límites suelen escalar juntos, probablemente debido a políticas crediticias internas.\n",
        "* **`CUPO_L1` vs. `Antigüedad` (r = 0.40)**\n",
        "  * Los clientes con mayor antigüedad tienden a tener un límite de crédito más alto, lo cual es consistente con prácticas financieras donde la estabilidad en el tiempo es un factor de confianza.\n",
        "* **`Edad` vs. `Antigüedad` (r = 0.36) y `CUPO_L1` (r = 0.26)**\n",
        "  * La edad tiene una correlación moderada con la antigüedad y leve con los límites de crédito, sugiriendo cierta influencia del perfil etario, aunque no es un predictor dominante.\n",
        "* **`Renta` vs. `Límites de Crédito` (r ≈ 0.25)**\n",
        "  * A pesar de ser una variable financiera clave, la renta muestra correlaciones relativamente bajas con los cupos de crédito. Esto podría indicar que el otorgamiento de cupo considera otros factores como historial de pago o segmentación comercial.\n",
        "* **Ausencia de Multicolinealidad Crítica**\n",
        "  * No se detectan correlaciones extremas (por encima de 0.8 o por debajo de -0.8), lo cual es positivo para el modelado. Las variables aportan información diferenciada y no redundante, reduciendo el riesgo de multicolinealidad.\n"
      ]
    },
    {
      "cell_type": "markdown",
      "metadata": {
        "id": "4hMyvmuNUY-p"
      },
      "source": [
        "### Random Forest + Pipeline"
      ]
    },
    {
      "cell_type": "code",
      "execution_count": null,
      "metadata": {
        "colab": {
          "base_uri": "https://localhost:8080/"
        },
        "id": "mYsFdvxdh9x4",
        "outputId": "d9c32abf-8fd3-4350-93fb-5bc8564b2f93"
      },
      "outputs": [],
      "source": [
        "# Resumen de valores nulos antes del preprocesamiento\n",
        "print(\"Resumen de valores nulos antes del preprocesamiento:\")\n",
        "print(X.isnull().sum())"
      ]
    },
    {
      "cell_type": "markdown",
      "metadata": {
        "id": "TMwk6UxfjH-a"
      },
      "source": [
        "🔹Revisión de Completitud de Datos\n",
        "\n",
        "Tras ejecutar una revisión posterior de los valores nulos en el conjunto de datos, se confirma que todas las columnas están completamente pobladas. Variables clave como `Id`, `Subsegmento`, `Sexo`, `Region`, `Edad`, `UsoL1_T01`, `IndRev_T01` y `target` no presentan valores faltantes."
      ]
    },
    {
      "cell_type": "code",
      "execution_count": null,
      "metadata": {
        "id": "If_zw9lmZkoy"
      },
      "outputs": [],
      "source": [
        "# Definir las características numéricas y categóricas (modifica según tus variables)\n",
        "numeric_features = X.select_dtypes(include=['int64', 'float64']).columns\n",
        "categorical_features = X.select_dtypes(include=['object']).columns\n",
        "\n",
        "# Preprocesamiento para características numéricas (imputación y escalado)\n",
        "numeric_transformer = Pipeline(steps=[\n",
        "    ('imputer', SimpleImputer(strategy='mean')),\n",
        "    ('scaler', StandardScaler())])\n",
        "\n",
        "# Preprocesamiento para características categóricas (imputación y codificación)\n",
        "categorical_transformer = Pipeline(steps=[\n",
        "    ('imputer', SimpleImputer(strategy='most_frequent')),\n",
        "    ('onehot', OneHotEncoder(handle_unknown='ignore'))])\n",
        "\n",
        "# Crear el preprocesador usando ColumnTransformer\n",
        "preprocessor = ColumnTransformer(\n",
        "    transformers=[\n",
        "        ('num', numeric_transformer, numeric_features),\n",
        "        ('cat', categorical_transformer, categorical_features)])\n",
        "\n",
        "# Verificar y transformar `y` en una variable binaria si es continuo\n",
        "if y.dtype == 'float' or y.dtype == 'int':\n",
        "    threshold = np.median(y)\n",
        "    y = np.where(y >= threshold, 1, 0)\n",
        "\n",
        "# Dividir los datos en conjuntos de entrenamiento y prueba\n",
        "X_train, X_test, y_train, y_test = train_test_split(X, y, test_size=0.2, random_state=42)\n",
        "\n",
        "# Crear el pipeline con el preprocesador y el modelo\n",
        "pipeline = Pipeline(steps=[('preprocessor', preprocessor),\n",
        "                           ('classifier', LogisticRegression(max_iter=1000))])"
      ]
    },
    {
      "cell_type": "code",
      "execution_count": null,
      "metadata": {
        "colab": {
          "base_uri": "https://localhost:8080/"
        },
        "id": "fstaa0JcaGXM",
        "outputId": "90744769-f195-4872-f1e3-8fb8a5d04e8f"
      },
      "outputs": [],
      "source": [
        "# Entrenamiento del modelo\n",
        "pipeline.fit(X_train, y_train)\n",
        "\n",
        "# Evaluación\n",
        "y_pred = pipeline.predict(X_test)\n",
        "print(\"Evaluación del modelo (Random Forest + Pipeline):\")\n",
        "print(classification_report(y_test, y_pred, digits=4))\n",
        "print(\"Matriz de confusión:\\n\", confusion_matrix(y_test, y_pred))\n"
      ]
    },
    {
      "cell_type": "code",
      "execution_count": null,
      "metadata": {
        "colab": {
          "base_uri": "https://localhost:8080/"
        },
        "id": "rX59SHC5aPy3",
        "outputId": "d9d1226e-df00-45bd-b3af-74c416b06d1d"
      },
      "outputs": [],
      "source": [
        "# Guardar el pipeline entero (preprocesamiento + modelo)\n",
        "joblib.dump(pipeline, 'models/modelo_pipeline_rf.pkl')"
      ]
    },
    {
      "cell_type": "code",
      "execution_count": null,
      "metadata": {
        "id": "Kv3MNqwxaRuz"
      },
      "outputs": [],
      "source": [
        "# Cargar modelo\n",
        "modelo_cargado = joblib.load('models/modelo_pipeline_rf.pkl')\n",
        "\n",
        "# Predecir directamente con el pipeline\n",
        "y_pred_cargado = modelo_cargado.predict(X_test)\n",
        "\n",
        "# Evaluación para verificar consistencia\n",
        "print(\"Evaluación del modelo cargado:\")\n",
        "print(classification_report(y_test, y_pred_cargado, digits=4))"
      ]
    },
    {
      "cell_type": "markdown",
      "metadata": {
        "id": "b4l2l5A4nFdb"
      },
      "source": [
        "🔹Evaluación del Modelo: Exactitud e Implicaciones\n",
        "\n",
        "* **Exactitud Obtenida**\n",
        "  * El modelo alcanzó una exactitud del 96%, lo cual representa un rendimiento sobresaliente considerando las variables utilizadas. Este nivel de desempeño sugiere que las características disponibles en el dataset son efectivas para capturar los patrones necesarios para la clasificación.\n",
        "* **Interpretación y Consideraciones para Mejora**\n",
        "  * La exclusión de ciertas columnas no afectó negativamente el rendimiento del modelo, lo que indica que dichas variables probablemente no aportaban información crítica en su estado actual.\n",
        "  * No obstante, si estas columnas contienen información futura o si se reduce el sesgo de disponibilidad (por ejemplo, completando valores faltantes con estrategias robustas), podrían evaluarse nuevamente para determinar si contribuyen a mejorar la capacidad predictiva.\n",
        "  * En el caso de variables categóricas, una estrategia más sólida que la eliminación podría ser asignar una categoría explícita para valores faltantes (como \"Desconocido\"), preservando la información estructural del dataset sin introducir ruido estadístico innecesario.\n",
        "\n",
        "🔹Conclusión\n",
        "\n",
        "El modelo demostró ser eficaz incluso con un subconjunto reducido de variables, lo cual refuerza su robustez y eficiencia. Sin embargo, se recomienda seguir evaluando el valor agregado de variables omitidas a medida que se disponga de datos más completos.\n",
        "\n",
        "---"
      ]
    },
    {
      "cell_type": "markdown",
      "metadata": {
        "id": "8hGpwMKkf6DQ"
      },
      "source": [
        "**Reconocer Overfitting y Underfitting**"
      ]
    },
    {
      "cell_type": "code",
      "execution_count": null,
      "metadata": {
        "colab": {
          "base_uri": "https://localhost:8080/"
        },
        "id": "HWwjyYXVgAFP",
        "outputId": "60579bac-5872-49df-a7f2-b2d0615c3780"
      },
      "outputs": [],
      "source": [
        "# Calcular la exactitud en el conjunto de entrenamiento y en el conjunto de prueba\n",
        "train_accuracy = accuracy_score(y_train, pipeline.predict(X_train))\n",
        "test_accuracy = accuracy_score(y_test, pipeline.predict(X_test))\n",
        "\n",
        "print(f\"Exactitud en entrenamiento: {train_accuracy:.2f}\")\n",
        "print(f\"Exactitud en prueba: {test_accuracy:.2f}\")\n",
        "\n",
        "# Interpretación de overfitting o underfitting\n",
        "if train_accuracy > test_accuracy + 0.1:\n",
        "    print(\"Posible overfitting detectado: el modelo tiene un desempeño mucho mejor en entrenamiento que en prueba.\")\n",
        "elif test_accuracy > train_accuracy:\n",
        "    print(\"Posible underfitting detectado: el modelo no está capturando patrones suficientemente bien.\")\n",
        "else:\n",
        "    print(\"Buen ajuste: el modelo tiene un desempeño balanceado entre entrenamiento y prueba.\")\n"
      ]
    },
    {
      "cell_type": "code",
      "execution_count": null,
      "metadata": {
        "colab": {
          "base_uri": "https://localhost:8080/"
        },
        "id": "kJx2A-4km6LN",
        "outputId": "0eda80d6-b6d2-4fea-8ab9-7b086b7d5da5"
      },
      "outputs": [],
      "source": [
        "# Calcular la exactitud en el conjunto de entrenamiento y en el conjunto de prueba\n",
        "train_accuracy = accuracy_score(y_train, pipeline.predict(X_train))\n",
        "test_accuracy = accuracy_score(y_test, y_pred)\n",
        "\n",
        "print(f\"Exactitud en entrenamiento: {train_accuracy:.2f}\")\n",
        "print(f\"Exactitud en prueba: {test_accuracy:.2f}\")"
      ]
    },
    {
      "cell_type": "markdown",
      "metadata": {
        "id": "ZLOa6GHKqgyI"
      },
      "source": [
        "🔹Evaluación del Ajuste del Modelo: Overfitting vs. Underfitting\n",
        "\n",
        "* **Análisis del Desempeño**:\n",
        "  * Para evaluar el comportamiento del modelo, se comparó su rendimiento en los conjuntos de entrenamiento y prueba utilizando la métrica de exactitud (accuracy):\n",
        "    * Exactitud en entrenamiento: 97%\n",
        "    * Exactitud en prueba: 96%\n",
        "\n",
        "* **Interpretación**:\n",
        "  * La diferencia marginal entre ambos conjuntos sugiere que el modelo generaliza adecuadamente y no presenta overfitting (sobreajuste).\n",
        "  * Asimismo, dado que ambos resultados son altos, el modelo tampoco evidencia underfitting (subajuste), es decir, logra captar patrones relevantes sin sobreajustarse a los datos de entrenamiento.\n",
        "\n",
        "* **Mensajes de Advertencia**:\n",
        "  * Se emitieron advertencias relacionadas con columnas que no contienen valores observados (como 'Sexo' o 'IndRev_T12'). Estas advertencias se refieren a omisiones automáticas en el proceso de imputación, pero no impactan negativamente el rendimiento del modelo, ya que dichas columnas no contenían información útil o estaban correctamente gestionadas en etapas anteriores del preprocesamiento.\n",
        "\n",
        "🔹Conclusión\n",
        "\n",
        "El modelo logra un buen equilibrio entre sesgo y varianza, lo que lo convierte en una base sólida para aplicaciones predictivas con los datos actuales. No obstante, es recomendable seguir monitoreando este equilibrio si se incorporan nuevas variables o si se modifica la estrategia de imputación.\n",
        "\n",
        "---"
      ]
    },
    {
      "cell_type": "markdown",
      "metadata": {
        "id": "eEvl7YgfuVz2"
      },
      "source": [
        "**Métricas de Evaluación de Modelos de Clasificación**"
      ]
    },
    {
      "cell_type": "code",
      "execution_count": null,
      "metadata": {
        "colab": {
          "base_uri": "https://localhost:8080/"
        },
        "id": "Sjzr5kXsoC4W",
        "outputId": "3dc4e14c-3433-4c49-ce0f-6f67f7c62f83"
      },
      "outputs": [],
      "source": [
        "# Reporte de clasificación detallado\n",
        "print(\"Reporte de Clasificación:\")\n",
        "print(classification_report(y_test, y_pred))"
      ]
    },
    {
      "cell_type": "markdown",
      "metadata": {
        "id": "3-ROH3rdufy_"
      },
      "source": [
        "🔹Evaluación del Modelo: Métricas de Clasificación\n",
        "\n",
        "Se evaluó el rendimiento del modelo utilizando las métricas estándar: precisión, recall, F1-score y exactitud, aplicadas a cada clase del target.\n",
        "\n",
        "🔹Resultados principales\n",
        "\n",
        "| Clase    | Precision | Recall | F1-score | Soporte |\n",
        "| -------- | --------- | ------ | -------- | ------- |\n",
        "| 0        | 0.96      | 0.96   | 0.96     | 2716    |\n",
        "| 1        | 0.96      | 0.96   | 0.96     | 2950    |\n",
        "| Accuracy |           |        | 0.96     | 5666    |\n",
        "\n",
        "* **Macro Avg (no ponderado)**: Todas las métricas promedian 0.96, lo que indica un desempeño parejo entre clases.\n",
        "* **Weighted Avg (ponderado)**: Igualmente 0.96, confirmando que el modelo mantiene alta precisión incluso considerando la proporción de cada clase.\n",
        "\n",
        "🔹Interpretación\n",
        "\n",
        "* **Rendimiento equilibrado**: El modelo clasifica con la misma eficacia ambas clases, lo que es ideal para tareas donde ambas categorías tienen valor estratégico.\n",
        "* *No se requieren ajustes adicionales¨**: Dado el balance en el desempeño y la distribución relativamente pareja del soporte entre clases, no se observan problemas de desbalance ni necesidad de técnicas de reponderación."
      ]
    },
    {
      "cell_type": "code",
      "execution_count": null,
      "metadata": {
        "colab": {
          "base_uri": "https://localhost:8080/",
          "height": 487
        },
        "id": "dSpDWvqtoO5B",
        "outputId": "3722b763-7395-407b-cddc-079b45b5fe7a"
      },
      "outputs": [],
      "source": [
        "# Generar matriz de confusión\n",
        "conf_matrix = confusion_matrix(y_test, y_pred)\n",
        "\n",
        "# Visualizar la matriz de confusión\n",
        "plt.figure(figsize=(6, 5))\n",
        "sns.heatmap(conf_matrix, annot=True, fmt='d', cmap='Blues', cbar=False)\n",
        "plt.xlabel(\"Predicción\")\n",
        "plt.ylabel(\"Real\")\n",
        "plt.title(\"Matriz de Confusión\")\n",
        "plt.show()"
      ]
    },
    {
      "cell_type": "markdown",
      "metadata": {
        "id": "hc0iZw3so2Qu"
      },
      "source": [
        "🔹Análisis de la Matriz de Confusión\n",
        "\n",
        "|        | Predicho 0 | Predicho 1 |\n",
        "| ------ | ---------- | ---------- |\n",
        "| Real 0 | 2608 (VN)  | 108 (FP)   |\n",
        "| Real 1 | 119 (FN)   | 2831 (VP)  |\n",
        "\n",
        "Interpretación\n",
        "\n",
        "* **Precisión elevada en ambas clases**: El modelo clasifica correctamente el 96% de los casos de cada clase, con un buen balance entre Verdaderos Positivos (2831) y Verdaderos Negativos (2608).\n",
        "\n",
        "* **Errores moderados**:\n",
        "  * **Falsos Positivos (108)**: Casos de clase 0 incorrectamente clasificados como 1.\n",
        "  * **Falsos Negativos (119)**: Casos de clase 1 predichos como 0.\n",
        "  * Estos errores son proporcionales y no generan sesgo significativo en el modelo.\n",
        "* **Balance de clases**: No se observa una desproporción crítica entre clases (2716 vs. 2950), por lo que no es estrictamente necesario aplicar técnicas de balanceo (como resampling o class weighting). Sin embargo, podrían explorarse en una etapa de refinamiento para optimizar la sensibilidad o reducir falsos negativos, dependiendo del costo de error para el negocio."
      ]
    },
    {
      "cell_type": "markdown",
      "metadata": {},
      "source": [
        "### Conclusión Final"
      ]
    },
    {
      "cell_type": "markdown",
      "metadata": {},
      "source": [
        "Este proyecto demostró un enfoque completo y estructurado para el análisis y modelado de datos reales del sector financiero. A través de un proceso de limpieza, transformación y evaluación de múltiples modelos, se lograron los siguientes resultados clave:\n",
        "\n",
        "* **Calidad del dataset**: Se logró una base de datos limpia, sin valores nulos, con variables transformadas adecuadamente y codificadas para el modelado.\n",
        "* **Análisis exploratorio**: Identificó patrones relevantes, como la alta concentración de clientes en ciertos segmentos (Región 13, subsegmento 170), y un uso predominantemente bajo de productos financieros.\n",
        "* **Modelado de regresión**: El modelo de regresión lineal aplicado al target transformado (log(1 + transacciones anuales)) logró un desempeño aceptable (MSE: 0.31, RMSE: 0.55), aunque se reconoció que no era ideal para producción.\n",
        "* **Modelado de clasificación**: Se desarrolló un modelo robusto de clasificación binaria para la retención de clientes, alcanzando una exactitud del 96%, sin señales de overfitting ni underfitting. La matriz de confusión y métricas como precisión, recall y F1-score confirmaron un desempeño equilibrado entre clases."
      ]
    }
  ],
  "metadata": {
    "accelerator": "GPU",
    "colab": {
      "gpuType": "T4",
      "provenance": []
    },
    "kernelspec": {
      "display_name": "Python 3",
      "name": "python3"
    },
    "language_info": {
      "name": "python"
    }
  },
  "nbformat": 4,
  "nbformat_minor": 0
}
